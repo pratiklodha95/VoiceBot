{
 "cells": [
  {
   "cell_type": "markdown",
   "metadata": {},
   "source": [
    "# Sample Codes"
   ]
  },
  {
   "cell_type": "markdown",
   "metadata": {},
   "source": [
    "# Using the Laptop Microphone"
   ]
  },
  {
   "cell_type": "code",
   "execution_count": 1,
   "metadata": {},
   "outputs": [
    {
     "name": "stdout",
     "output_type": "stream",
     "text": [
      "Say something!\n",
      "Google Speech Recognition thinks you said :hello\n"
     ]
    }
   ],
   "source": [
    "import speech_recognition as sr\n",
    "r = sr.Recognizer()\n",
    "with sr.Microphone() as source:\n",
    "    print(\"Say something!\")\n",
    "    r.adjust_for_ambient_noise(source)\n",
    "    audio = r.listen(source)\n",
    "    \n",
    "try:\n",
    "    print(\"Google Speech Recognition thinks you said :\" + r.recognize_google(audio))\n",
    "except sr.UnknownValueError:\n",
    "    print(\"Google Speech Recognition could not understand audio\")\n",
    "except sr.RequestError as e:\n",
    "    print(\"Could not request results from Google Speech Recognition service; {0}\".format(e))"
   ]
  },
  {
   "cell_type": "markdown",
   "metadata": {},
   "source": [
    "# Creating an Audio output from text"
   ]
  },
  {
   "cell_type": "code",
   "execution_count": null,
   "metadata": {},
   "outputs": [],
   "source": [
    "import pyttsx3\n",
    "engine = pyttsx3.init()\n",
    "engine.setProperty('rate',200)  \n",
    "#200 words per minute\n",
    "engine.setProperty('volume',0.9) \n",
    "\n",
    "voices = engine.getProperty('voices')\n",
    "engine.setProperty('voice', voices[0].id)\n",
    "#For Male and Femail Voice\n",
    "\n",
    "engine.say(\"Hello this is me talking\")\n",
    "engine.runAndWait()"
   ]
  },
  {
   "cell_type": "markdown",
   "metadata": {},
   "source": [
    "# Simple Voice Bot Implementation"
   ]
  },
  {
   "cell_type": "code",
   "execution_count": 2,
   "metadata": {},
   "outputs": [],
   "source": [
    "def send_response(message):\n",
    "    if(message.find(\"hello\") != -1):\n",
    "        return \"Hello, I am a voice bot. Nice to meet you.\"\n",
    "    else:\n",
    "        return \"Sorry, Could you repeat\"\n",
    "        \n",
    "    return 1"
   ]
  },
  {
   "cell_type": "code",
   "execution_count": 14,
   "metadata": {},
   "outputs": [],
   "source": [
    "def speak(engine,reply):\n",
    "    engine.say(reply)\n",
    "    engine.runAndWait()\n",
    "    return 1"
   ]
  },
  {
   "cell_type": "code",
   "execution_count": 11,
   "metadata": {},
   "outputs": [],
   "source": [
    "def hear(sr,r):\n",
    "    with sr.Microphone() as source:\n",
    "        r.adjust_for_ambient_noise(source)\n",
    "        audio = r.listen(source)\n",
    "    return audio"
   ]
  },
  {
   "cell_type": "code",
   "execution_count": 5,
   "metadata": {},
   "outputs": [],
   "source": [
    "def interpret_voice(audio):\n",
    "    try:\n",
    "        return r.recognize_google(audio)\n",
    "    except sr.UnknownValueError:\n",
    "        return \"Google Speech Recognition could not understand audio\"\n",
    "    except sr.RequestError as e:\n",
    "        return \"Could not request results from Google Speech Recognition service; {0}\".format(e)"
   ]
  },
  {
   "cell_type": "code",
   "execution_count": 17,
   "metadata": {},
   "outputs": [
    {
     "name": "stdout",
     "output_type": "stream",
     "text": [
      "BOT: Say Something\n",
      "USER: this is Betty\n",
      "BOT: Sorry, Could you repeat\n"
     ]
    }
   ],
   "source": [
    "import speech_recognition as sr\n",
    "import pyttsx3\n",
    "\n",
    "def main():\n",
    "    engine = pyttsx3.init()\n",
    "    r = sr.Recognizer()\n",
    "    \n",
    "    first_message = \"Say Something\"\n",
    "    speak(engine,first_message)\n",
    "    print(\"BOT: {0}\".format(first_message))\n",
    "    audio = hear(sr,r)\n",
    "    text = interpret_voice(audio)\n",
    "    print(\"USER: {0}\".format(text))\n",
    "    reply = send_response(text)\n",
    "    print(\"BOT: {0}\".format(reply))\n",
    "    speak(engine,reply)\n",
    "\n",
    "main()"
   ]
  },
  {
   "cell_type": "code",
   "execution_count": 16,
   "metadata": {},
   "outputs": [],
   "source": []
  },
  {
   "cell_type": "code",
   "execution_count": null,
   "metadata": {},
   "outputs": [],
   "source": []
  }
 ],
 "metadata": {
  "kernelspec": {
   "display_name": "Python 3",
   "language": "python",
   "name": "python3"
  },
  "language_info": {
   "codemirror_mode": {
    "name": "ipython",
    "version": 3
   },
   "file_extension": ".py",
   "mimetype": "text/x-python",
   "name": "python",
   "nbconvert_exporter": "python",
   "pygments_lexer": "ipython3",
   "version": "3.7.3"
  }
 },
 "nbformat": 4,
 "nbformat_minor": 2
}
